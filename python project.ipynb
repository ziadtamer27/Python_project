{
 "cells": [
  {
   "cell_type": "code",
   "execution_count": 112,
   "id": "fa794873-1f57-4898-9e9a-d0aeaa8c2c15",
   "metadata": {
    "jp-MarkdownHeadingCollapsed": true
   },
   "outputs": [
    {
     "name": "stdout",
     "output_type": "stream",
     "text": [
      "\n",
      "--- Employee Management System ---\n",
      "1. Add Employee\n",
      "2. Update Employee\n",
      "3. Delete Employee\n",
      "4. Search Employee\n",
      "5. List All Employees\n",
      "6. Exit\n"
     ]
    },
    {
     "name": "stdin",
     "output_type": "stream",
     "text": [
      "Enter your choice:  1\n"
     ]
    },
    {
     "name": "stdout",
     "output_type": "stream",
     "text": [
      "\n",
      "--- Add New Employee ---\n"
     ]
    },
    {
     "name": "stdin",
     "output_type": "stream",
     "text": [
      "Enter Name:  mohamed\n",
      "Enter ID:  12222\n",
      "Enter Email:  mohamed@gmail.com\n",
      "Enter Position:  software engineer\n",
      "Enter Salary:  1222\n"
     ]
    },
    {
     "name": "stdout",
     "output_type": "stream",
     "text": [
      "Employee is added successfully!\n",
      "\n",
      "--- Employee Management System ---\n",
      "1. Add Employee\n",
      "2. Update Employee\n",
      "3. Delete Employee\n",
      "4. Search Employee\n",
      "5. List All Employees\n",
      "6. Exit\n"
     ]
    },
    {
     "name": "stdin",
     "output_type": "stream",
     "text": [
      "Enter your choice:  5\n"
     ]
    },
    {
     "name": "stdout",
     "output_type": "stream",
     "text": [
      "\n",
      "--- List All Employees ---\n",
      "Name: Ziad, ID: 2200502, Email: ziad@gmail.com, Position: Data scientist, Salary: 1211.0\n",
      "Name: mohamed, ID: 12222, Email: mohamed@gmail.com, Position: software engineer, Salary: 1222.0\n",
      "\n",
      "--- Employee Management System ---\n",
      "1. Add Employee\n",
      "2. Update Employee\n",
      "3. Delete Employee\n",
      "4. Search Employee\n",
      "5. List All Employees\n",
      "6. Exit\n"
     ]
    },
    {
     "name": "stdin",
     "output_type": "stream",
     "text": [
      "Enter your choice:  1\n"
     ]
    },
    {
     "name": "stdout",
     "output_type": "stream",
     "text": [
      "\n",
      "--- Add New Employee ---\n"
     ]
    },
    {
     "name": "stdin",
     "output_type": "stream",
     "text": [
      "Enter Name:  Ali\n",
      "Enter ID:  12121\n",
      "Enter Email:  Ali@gmail.com\n",
      "Enter Position:  embedded systems engineer\n",
      "Enter Salary:  3232\n"
     ]
    },
    {
     "name": "stdout",
     "output_type": "stream",
     "text": [
      "Employee is added successfully!\n",
      "\n",
      "--- Employee Management System ---\n",
      "1. Add Employee\n",
      "2. Update Employee\n",
      "3. Delete Employee\n",
      "4. Search Employee\n",
      "5. List All Employees\n",
      "6. Exit\n"
     ]
    },
    {
     "name": "stdin",
     "output_type": "stream",
     "text": [
      "Enter your choice:  1\n"
     ]
    },
    {
     "name": "stdout",
     "output_type": "stream",
     "text": [
      "\n",
      "--- Add New Employee ---\n"
     ]
    },
    {
     "name": "stdin",
     "output_type": "stream",
     "text": [
      "Enter Name:  ibrahim\n",
      "Enter ID:  22333\n",
      "Enter Email:  ibrahim\n"
     ]
    },
    {
     "name": "stdout",
     "output_type": "stream",
     "text": [
      "Invalid email format. Please provide a valid email.\n"
     ]
    },
    {
     "name": "stdin",
     "output_type": "stream",
     "text": [
      "Enter Email:  ibrahim@gmail.com\n",
      "Enter Position:  HR\n",
      "Enter Salary:  1200\n"
     ]
    },
    {
     "name": "stdout",
     "output_type": "stream",
     "text": [
      "Employee is added successfully!\n",
      "\n",
      "--- Employee Management System ---\n",
      "1. Add Employee\n",
      "2. Update Employee\n",
      "3. Delete Employee\n",
      "4. Search Employee\n",
      "5. List All Employees\n",
      "6. Exit\n"
     ]
    },
    {
     "name": "stdin",
     "output_type": "stream",
     "text": [
      "Enter your choice:  5\n"
     ]
    },
    {
     "name": "stdout",
     "output_type": "stream",
     "text": [
      "\n",
      "--- List All Employees ---\n",
      "Name: Ziad, ID: 2200502, Email: ziad@gmail.com, Position: Data scientist, Salary: 1211.0\n",
      "Name: mohamed, ID: 12222, Email: mohamed@gmail.com, Position: software engineer, Salary: 1222.0\n",
      "Name: Ali, ID: 12121, Email: Ali@gmail.com, Position: embedded systems engineer, Salary: 3232.0\n",
      "Name: ibrahim, ID: 22333, Email: ibrahim@gmail.com, Position: HR, Salary: 1200.0\n",
      "\n",
      "--- Employee Management System ---\n",
      "1. Add Employee\n",
      "2. Update Employee\n",
      "3. Delete Employee\n",
      "4. Search Employee\n",
      "5. List All Employees\n",
      "6. Exit\n"
     ]
    },
    {
     "name": "stdin",
     "output_type": "stream",
     "text": [
      "Enter your choice:  2\n"
     ]
    },
    {
     "name": "stdout",
     "output_type": "stream",
     "text": [
      "\n",
      "--- Update Employee ---\n"
     ]
    },
    {
     "name": "stdin",
     "output_type": "stream",
     "text": [
      "Enter ID:  2200502\n",
      "What do you want to update?\n",
      "                    1. Name\n",
      "                    2. Email\n",
      "                    3. Position\n",
      "                    4. Salary\n",
      "                     4\n",
      "Enter Salary:  5000\n"
     ]
    },
    {
     "name": "stdout",
     "output_type": "stream",
     "text": [
      "Employee updated successfully!\n",
      "\n",
      "--- Employee Management System ---\n",
      "1. Add Employee\n",
      "2. Update Employee\n",
      "3. Delete Employee\n",
      "4. Search Employee\n",
      "5. List All Employees\n",
      "6. Exit\n"
     ]
    },
    {
     "name": "stdin",
     "output_type": "stream",
     "text": [
      "Enter your choice:  4\n"
     ]
    },
    {
     "name": "stdout",
     "output_type": "stream",
     "text": [
      "\n",
      "--- Search Employee ---\n"
     ]
    },
    {
     "name": "stdin",
     "output_type": "stream",
     "text": [
      "Enter ID:  2200502\n"
     ]
    },
    {
     "name": "stdout",
     "output_type": "stream",
     "text": [
      "Employee found: Name: Ziad, ID: 2200502, Email: ziad@gmail.com, Position: Data scientist, Salary: 5000.0\n",
      "\n",
      "--- Employee Management System ---\n",
      "1. Add Employee\n",
      "2. Update Employee\n",
      "3. Delete Employee\n",
      "4. Search Employee\n",
      "5. List All Employees\n",
      "6. Exit\n"
     ]
    },
    {
     "name": "stdin",
     "output_type": "stream",
     "text": [
      "Enter your choice:  2\n"
     ]
    },
    {
     "name": "stdout",
     "output_type": "stream",
     "text": [
      "\n",
      "--- Update Employee ---\n"
     ]
    },
    {
     "name": "stdin",
     "output_type": "stream",
     "text": [
      "Enter ID:  12121\n",
      "What do you want to update?\n",
      "                    1. Name\n",
      "                    2. Email\n",
      "                    3. Position\n",
      "                    4. Salary\n",
      "                     3\n",
      "Please Enter The New Position:  embedded engineer\n"
     ]
    },
    {
     "name": "stdout",
     "output_type": "stream",
     "text": [
      "Employee updated successfully!\n",
      "\n",
      "--- Employee Management System ---\n",
      "1. Add Employee\n",
      "2. Update Employee\n",
      "3. Delete Employee\n",
      "4. Search Employee\n",
      "5. List All Employees\n",
      "6. Exit\n"
     ]
    },
    {
     "name": "stdin",
     "output_type": "stream",
     "text": [
      "Enter your choice:  5\n"
     ]
    },
    {
     "name": "stdout",
     "output_type": "stream",
     "text": [
      "\n",
      "--- List All Employees ---\n",
      "Name: Ziad, ID: 2200502, Email: ziad@gmail.com, Position: Data scientist, Salary: 5000.0\n",
      "Name: mohamed, ID: 12222, Email: mohamed@gmail.com, Position: software engineer, Salary: 1222.0\n",
      "Name: Ali, ID: 12121, Email: Ali@gmail.com, Position: embedded engineer, Salary: 3232.0\n",
      "Name: ibrahim, ID: 22333, Email: ibrahim@gmail.com, Position: HR, Salary: 1200.0\n",
      "\n",
      "--- Employee Management System ---\n",
      "1. Add Employee\n",
      "2. Update Employee\n",
      "3. Delete Employee\n",
      "4. Search Employee\n",
      "5. List All Employees\n",
      "6. Exit\n"
     ]
    },
    {
     "name": "stdin",
     "output_type": "stream",
     "text": [
      "Enter your choice:  3\n"
     ]
    },
    {
     "name": "stdout",
     "output_type": "stream",
     "text": [
      "\n",
      "--- Delete Employee ---\n"
     ]
    },
    {
     "name": "stdin",
     "output_type": "stream",
     "text": [
      "Enter ID:  12222\n"
     ]
    },
    {
     "name": "stdout",
     "output_type": "stream",
     "text": [
      "Employee deleted successfully.\n",
      "\n",
      "--- Employee Management System ---\n",
      "1. Add Employee\n",
      "2. Update Employee\n",
      "3. Delete Employee\n",
      "4. Search Employee\n",
      "5. List All Employees\n",
      "6. Exit\n"
     ]
    },
    {
     "name": "stdin",
     "output_type": "stream",
     "text": [
      "Enter your choice:  5\n"
     ]
    },
    {
     "name": "stdout",
     "output_type": "stream",
     "text": [
      "\n",
      "--- List All Employees ---\n",
      "Name: Ziad, ID: 2200502, Email: ziad@gmail.com, Position: Data scientist, Salary: 5000.0\n",
      "Name: Ali, ID: 12121, Email: Ali@gmail.com, Position: embedded engineer, Salary: 3232.0\n",
      "Name: ibrahim, ID: 22333, Email: ibrahim@gmail.com, Position: HR, Salary: 1200.0\n",
      "\n",
      "--- Employee Management System ---\n",
      "1. Add Employee\n",
      "2. Update Employee\n",
      "3. Delete Employee\n",
      "4. Search Employee\n",
      "5. List All Employees\n",
      "6. Exit\n"
     ]
    },
    {
     "name": "stdin",
     "output_type": "stream",
     "text": [
      "Enter your choice:  1\n"
     ]
    },
    {
     "name": "stdout",
     "output_type": "stream",
     "text": [
      "\n",
      "--- Add New Employee ---\n"
     ]
    },
    {
     "name": "stdin",
     "output_type": "stream",
     "text": [
      "Enter Name:  Osama\n",
      "Enter ID:  30000\n",
      "Enter Email:  osama@gmail.com\n",
      "Enter Position:  software engineer\n",
      "Enter Salary:  1000\n"
     ]
    },
    {
     "name": "stdout",
     "output_type": "stream",
     "text": [
      "Employee is added successfully!\n",
      "\n",
      "--- Employee Management System ---\n",
      "1. Add Employee\n",
      "2. Update Employee\n",
      "3. Delete Employee\n",
      "4. Search Employee\n",
      "5. List All Employees\n",
      "6. Exit\n"
     ]
    },
    {
     "name": "stdin",
     "output_type": "stream",
     "text": [
      "Enter your choice:  5\n"
     ]
    },
    {
     "name": "stdout",
     "output_type": "stream",
     "text": [
      "\n",
      "--- List All Employees ---\n",
      "Name: Ziad, ID: 2200502, Email: ziad@gmail.com, Position: Data scientist, Salary: 5000.0\n",
      "Name: Ali, ID: 12121, Email: Ali@gmail.com, Position: embedded engineer, Salary: 3232.0\n",
      "Name: ibrahim, ID: 22333, Email: ibrahim@gmail.com, Position: HR, Salary: 1200.0\n",
      "Name: Osama, ID: 30000, Email: osama@gmail.com, Position: software engineer, Salary: 1000.0\n",
      "\n",
      "--- Employee Management System ---\n",
      "1. Add Employee\n",
      "2. Update Employee\n",
      "3. Delete Employee\n",
      "4. Search Employee\n",
      "5. List All Employees\n",
      "6. Exit\n"
     ]
    },
    {
     "name": "stdin",
     "output_type": "stream",
     "text": [
      "Enter your choice:  6\n"
     ]
    },
    {
     "name": "stdout",
     "output_type": "stream",
     "text": [
      "\n",
      "Exiting Employee Management System. Goodbye!\n"
     ]
    }
   ],
   "source": [
    "import csv\n",
    "import re\n",
    "\n",
    "class Employee:\n",
    "    def __init__(self, name, ID, email, position, salary):\n",
    "        self.name = name\n",
    "        self.ID = ID\n",
    "        self.email = email\n",
    "        self.position = position\n",
    "        self.salary = salary\n",
    "\n",
    "    def set_name(self, name):\n",
    "        self.name = name\n",
    "\n",
    "    def set_ID(self, ID):\n",
    "        self.ID = ID\n",
    "\n",
    "    def set_email(self, email):\n",
    "        self.email = email\n",
    "\n",
    "    def set_position(self, position):\n",
    "        self.position = position\n",
    "\n",
    "    def set_salary(self, salary):\n",
    "        self.salary = salary\n",
    "\n",
    "    def display_info(self):\n",
    "        print(f\"{self.name}: [ID: {self.ID} email: {self.email} position: {self.position} salary: {self.salary}$]\")\n",
    "\n",
    "\n",
    "class EmployeeManager:\n",
    "\n",
    "    @staticmethod\n",
    "    def validate_id():\n",
    "        while True:\n",
    "            ID = input(\"Enter ID: \")\n",
    "            if not str(ID).isdigit():\n",
    "                print(\"Invalid ID format. ID must be a numeric value.\")\n",
    "            else:\n",
    "                return ID\n",
    "\n",
    "    @staticmethod\n",
    "    def validate_email():\n",
    "        while True:\n",
    "            email = input(\"Enter Email: \")\n",
    "            email_pattern = r\"[^@]+@[^@]+\\.[^@]+\"\n",
    "            if not re.match(email_pattern, email):\n",
    "                print(\"Invalid email format. Please provide a valid email.\")\n",
    "            else:\n",
    "                return email\n",
    "\n",
    "    @staticmethod\n",
    "    def validate_salary():\n",
    "        while True:\n",
    "            salary = input(\"Enter Salary: \")\n",
    "            try:\n",
    "                salary = float(salary)\n",
    "                if salary <= 0:\n",
    "                    print(\"Invalid salary. It must be a positive number.\")\n",
    "                else:\n",
    "                    return salary\n",
    "            except ValueError:\n",
    "                print(\"Invalid salary format. It must be a numeric value.\")\n",
    "\n",
    "    @staticmethod\n",
    "    def add_employee():\n",
    "        print(\"\\n--- Add New Employee ---\")\n",
    "        name = input(\"Enter Name: \")\n",
    "        ID = EmployeeManager.validate_id()\n",
    "        email = EmployeeManager.validate_email()\n",
    "        position = input(\"Enter Position: \")\n",
    "        salary = EmployeeManager.validate_salary()\n",
    "        \n",
    "        newEmp = Employee(name, ID, email, position, salary)\n",
    "        columnData=[]\n",
    "        with open('employees.csv',mode='r') as file:\n",
    "            reader = csv.DictReader(file)\n",
    "            for row in reader:\n",
    "                columnData.append(row['ID'])\n",
    "            if str(ID) in columnData:\n",
    "                print(\"ID is taken!\")\n",
    "            else:\n",
    "                with open('employees.csv', mode='a+' , newline='') as file:\n",
    "                    file.seek(0)\n",
    "                    content = file.read()\n",
    "                    if len(content) == 0:\n",
    "                        fieldnames = [\"Name\", \"ID\", \"Email\", \"Position\", \"Salary\"]\n",
    "                        writer = csv.writer(file)\n",
    "                        writer.writerow(fieldnames)\n",
    "\n",
    "                    writer = csv.writer(file)\n",
    "                    writer.writerow([newEmp.name, newEmp.ID, newEmp.email, newEmp.position, newEmp.salary])\n",
    "                    print(\"Employee is added successfully!\")\n",
    "\n",
    "    @staticmethod\n",
    "    def update_employee():\n",
    "        print(\"\\n--- Update Employee ---\")\n",
    "        ID = EmployeeManager.validate_id()\n",
    "        Update = False\n",
    "        \n",
    "        employees = []\n",
    "        with open('employees.csv', mode='r' , newline='') as file:\n",
    "            reader = csv.DictReader(file)\n",
    "            for Row in reader:\n",
    "                employees.append(Row)\n",
    "            for employee in employees:\n",
    "                if str(ID) == employee['ID']:\n",
    "                    choose = int(input('''What do you want to update?\n",
    "                    1. Name\n",
    "                    2. Email\n",
    "                    3. Position\n",
    "                    4. Salary\n",
    "                    '''))\n",
    "                    if choose == 1:\n",
    "                        EmployeeName = input('Please Enter The New Name: ')\n",
    "                        employee['Name'] = EmployeeName\n",
    "                    elif choose == 2:\n",
    "                        EmployeeEmail = EmployeeManager.validate_email()\n",
    "                        employee['Email'] = EmployeeEmail\n",
    "                    elif choose == 3:\n",
    "                        EmployeePosition = input('Please Enter The New Position: ')\n",
    "                        employee['Position'] = EmployeePosition\n",
    "                    elif choose == 4:\n",
    "                        EmployeeSalary = EmployeeManager.validate_salary()\n",
    "                        employee['Salary'] = EmployeeSalary\n",
    "                    else:\n",
    "                        print(\"Invalid choice!\")\n",
    "                        return\n",
    "                    Update = True\n",
    "                    break\n",
    "       \n",
    "        if Update:\n",
    "            with open('employees.csv', mode='w', newline='') as file:\n",
    "                fieldnames = [\"Name\", \"ID\", \"Email\", \"Position\", \"Salary\"]\n",
    "                writer = csv.DictWriter(file, fieldnames=fieldnames)\n",
    "                writer.writeheader()\n",
    "                writer.writerows(employees)  \n",
    "                print(\"Employee updated successfully!\")\n",
    "        else:\n",
    "            print(\"Employee with that ID not found.\")\n",
    "\n",
    "    @staticmethod\n",
    "    def delete_employee():\n",
    "        print(\"\\n--- Delete Employee ---\")\n",
    "        ID = EmployeeManager.validate_id()\n",
    "\n",
    "        employees_to_keep = []\n",
    "        employee_found = False\n",
    "\n",
    "        with open('employees.csv', mode='r', newline='') as file:\n",
    "            reader = csv.DictReader(file)\n",
    "            for row in reader:\n",
    "                if row[\"ID\"] == str(ID):\n",
    "                    employee_found = True\n",
    "                else:\n",
    "                    employees_to_keep.append(row)\n",
    "\n",
    "        if not employee_found:\n",
    "            print(\"Employee not found!\")\n",
    "            return\n",
    "\n",
    "        with open('employees.csv', mode='w', newline='') as file:\n",
    "            writer = csv.DictWriter(file, fieldnames=[\"Name\", \"ID\", \"Email\", \"Position\", \"Salary\"])\n",
    "            writer.writeheader()\n",
    "            writer.writerows(employees_to_keep)\n",
    "\n",
    "        print(\"Employee deleted successfully.\")\n",
    "\n",
    "    @staticmethod\n",
    "    def search_employee():\n",
    "        print(\"\\n--- Search Employee ---\")\n",
    "        ID = EmployeeManager.validate_id()\n",
    "        try:\n",
    "            with open('employees.csv', mode='r', newline='') as file:\n",
    "                reader = csv.DictReader(file)\n",
    "                for row in reader:\n",
    "                    if row[\"ID\"] == str(ID):\n",
    "                        print(f\"Employee found: \"\n",
    "                              f\"Name: {row['Name']}, ID: {row['ID']}, Email: {row['Email']}, \"\n",
    "                              f\"Position: {row['Position']}, Salary: {row['Salary']}\")\n",
    "                        return\n",
    "            print(\"Employee not found!\")\n",
    "        except FileNotFoundError:\n",
    "            print(\"The employee file does not exist!\")\n",
    "\n",
    "    @staticmethod\n",
    "    def list_employees():\n",
    "        print(\"\\n--- List All Employees ---\")\n",
    "        try:\n",
    "            with open('employees.csv', mode='r', newline='') as file:\n",
    "                reader = csv.DictReader(file)\n",
    "                employees_found = False\n",
    "                for row in reader:\n",
    "                    employees_found = True\n",
    "                    print(f\"Name: {row['Name']}, ID: {row['ID']}, Email: {row['Email']}, \"\n",
    "                          f\"Position: {row['Position']}, Salary: {row['Salary']}\")\n",
    "                if not employees_found:\n",
    "                    print(\"No employees found!\")\n",
    "        except FileNotFoundError:\n",
    "            print(\"The employee file does not exist!\")\n",
    "\n",
    "\n",
    "while True:\n",
    "    print(\"\\n--- Employee Management System ---\")\n",
    "    print(\"1. Add Employee\")\n",
    "    print(\"2. Update Employee\")\n",
    "    print(\"3. Delete Employee\")\n",
    "    print(\"4. Search Employee\")\n",
    "    print(\"5. List All Employees\")\n",
    "    print(\"6. Exit\")\n",
    "\n",
    "    try:\n",
    "        choice = int(input(\"Enter your choice: \"))\n",
    "    except ValueError:\n",
    "        print(\"Invalid input. Please enter a number between 1 and 6.\")\n",
    "        continue\n",
    "\n",
    "    if choice == 1:\n",
    "        EmployeeManager.add_employee()\n",
    "    elif choice == 2:\n",
    "        EmployeeManager.update_employee()\n",
    "    elif choice == 3:\n",
    "        EmployeeManager.delete_employee()\n",
    "    elif choice == 4:\n",
    "        EmployeeManager.search_employee()\n",
    "    elif choice == 5:\n",
    "        EmployeeManager.list_employees()\n",
    "    elif choice == 6:\n",
    "        print(\"\\nExiting Employee Management System. Goodbye!\")\n",
    "        break\n",
    "    else:\n",
    "        print(\"Invalid choice. Please select a number between 1 and 6.\")\n"
   ]
  },
  {
   "cell_type": "code",
   "execution_count": null,
   "id": "2ffee3df-80fd-43e5-b2ed-689fb4037e48",
   "metadata": {},
   "outputs": [],
   "source": []
  },
  {
   "cell_type": "code",
   "execution_count": null,
   "id": "971d06a1-5f96-406e-a3fe-0b6fcba5bbbe",
   "metadata": {},
   "outputs": [],
   "source": []
  },
  {
   "cell_type": "code",
   "execution_count": null,
   "id": "bd83392b-fd93-4a62-b0a2-dab7cb2d3994",
   "metadata": {},
   "outputs": [],
   "source": []
  }
 ],
 "metadata": {
  "kernelspec": {
   "display_name": "Python 3 (ipykernel)",
   "language": "python",
   "name": "python3"
  },
  "language_info": {
   "codemirror_mode": {
    "name": "ipython",
    "version": 3
   },
   "file_extension": ".py",
   "mimetype": "text/x-python",
   "name": "python",
   "nbconvert_exporter": "python",
   "pygments_lexer": "ipython3",
   "version": "3.12.4"
  }
 },
 "nbformat": 4,
 "nbformat_minor": 5
}
